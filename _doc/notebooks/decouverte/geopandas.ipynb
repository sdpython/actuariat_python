{
  "cells": [
    {
      "cell_type": "markdown",
      "id": "9c563a13",
      "metadata": {},
      "source": [
        "# Geopandas\n",
        "\n",
        "[geopandas](https://geopandas.org/en/stable/) est devenu le point d'entr\u00e9e \u00e0 tout traitement li\u00e9 aux coordonn\u00e9es g\u00e9ographiques."
      ]
    },
    {
      "cell_type": "code",
      "execution_count": 1,
      "id": "42456ac5",
      "metadata": {},
      "outputs": [
        {
          "data": {
            "text/html": [
              "<div id=\"my_id_menu_nb\">run previous cell, wait for 2 seconds</div>\n",
              "<script>\n",
              "function repeat_indent_string(n){\n",
              "    var a = \"\" ;\n",
              "    for ( ; n > 0 ; --n)\n",
              "        a += \"    \";\n",
              "    return a;\n",
              "}\n",
              "// look up into all sections and builds an automated menu //\n",
              "var update_menu_string = function(begin, lfirst, llast, sformat, send, keep_item, begin_format, end_format) {\n",
              "    var anchors = document.getElementsByClassName(\"section\");\n",
              "    if (anchors.length == 0) {\n",
              "        anchors = document.getElementsByClassName(\"text_cell_render rendered_html\");\n",
              "    }\n",
              "    var i,t;\n",
              "    var text_menu = begin;\n",
              "    var text_memo = \"<pre>\\nlength:\" + anchors.length + \"\\n\";\n",
              "    var ind = \"\";\n",
              "    var memo_level = 1;\n",
              "    var href;\n",
              "    var tags = [];\n",
              "    var main_item = 0;\n",
              "    var format_open = 0;\n",
              "    for (i = 0; i <= llast; i++)\n",
              "        tags.push(\"h\" + i);\n",
              "\n",
              "    for (i = 0; i < anchors.length; i++) {\n",
              "        text_memo += \"**\" + anchors[i].id + \"--\\n\";\n",
              "\n",
              "        var child = null;\n",
              "        for(t = 0; t < tags.length; t++) {\n",
              "            var r = anchors[i].getElementsByTagName(tags[t]);\n",
              "            if (r.length > 0) {\n",
              "child = r[0];\n",
              "break;\n",
              "            }\n",
              "        }\n",
              "        if (child == null) {\n",
              "            text_memo += \"null\\n\";\n",
              "            continue;\n",
              "        }\n",
              "        if (anchors[i].hasAttribute(\"id\")) {\n",
              "            // when converted in RST\n",
              "            href = anchors[i].id;\n",
              "            text_memo += \"#1-\" + href;\n",
              "            // passer \u00e0 child suivant (le chercher)\n",
              "        }\n",
              "        else if (child.hasAttribute(\"id\")) {\n",
              "            // in a notebook\n",
              "            href = child.id;\n",
              "            text_memo += \"#2-\" + href;\n",
              "        }\n",
              "        else {\n",
              "            text_memo += \"#3-\" + \"*\" + \"\\n\";\n",
              "            continue;\n",
              "        }\n",
              "        var title = child.textContent;\n",
              "        var level = parseInt(child.tagName.substring(1,2));\n",
              "\n",
              "        text_memo += \"--\" + level + \"?\" + lfirst + \"--\" + title + \"\\n\";\n",
              "\n",
              "        if ((level < lfirst) || (level > llast)) {\n",
              "            continue ;\n",
              "        }\n",
              "        if (title.endsWith('\u00b6')) {\n",
              "            title = title.substring(0,title.length-1).replace(\"<\", \"&lt;\")\n",
              "         .replace(\">\", \"&gt;\").replace(\"&\", \"&amp;\");\n",
              "        }\n",
              "        if (title.length == 0) {\n",
              "            continue;\n",
              "        }\n",
              "\n",
              "        while (level < memo_level) {\n",
              "            text_menu += end_format + \"</ul>\\n\";\n",
              "            format_open -= 1;\n",
              "            memo_level -= 1;\n",
              "        }\n",
              "        if (level == lfirst) {\n",
              "            main_item += 1;\n",
              "        }\n",
              "        if (keep_item != -1 && main_item != keep_item + 1) {\n",
              "            // alert(main_item + \" - \" + level + \" - \" + keep_item);\n",
              "            continue;\n",
              "        }\n",
              "        while (level > memo_level) {\n",
              "            text_menu += \"<ul>\\n\";\n",
              "            memo_level += 1;\n",
              "        }\n",
              "        text_menu += repeat_indent_string(level-2);\n",
              "        text_menu += begin_format + sformat.replace(\"__HREF__\", href).replace(\"__TITLE__\", title);\n",
              "        format_open += 1;\n",
              "    }\n",
              "    while (1 < memo_level) {\n",
              "        text_menu += end_format + \"</ul>\\n\";\n",
              "        memo_level -= 1;\n",
              "        format_open -= 1;\n",
              "    }\n",
              "    text_menu += send;\n",
              "    //text_menu += \"\\n\" + text_memo;\n",
              "\n",
              "    while (format_open > 0) {\n",
              "        text_menu += end_format;\n",
              "        format_open -= 1;\n",
              "    }\n",
              "    return text_menu;\n",
              "};\n",
              "var update_menu = function() {\n",
              "    var sbegin = \"\";\n",
              "    var sformat = '<a href=\"#__HREF__\">__TITLE__</a>';\n",
              "    var send = \"\";\n",
              "    var begin_format = '<li>';\n",
              "    var end_format = '</li>';\n",
              "    var keep_item = -1;\n",
              "    var text_menu = update_menu_string(sbegin, 2, 4, sformat, send, keep_item,\n",
              "       begin_format, end_format);\n",
              "    var menu = document.getElementById(\"my_id_menu_nb\");\n",
              "    menu.innerHTML=text_menu;\n",
              "};\n",
              "window.setTimeout(update_menu,2000);\n",
              "            </script>"
            ],
            "text/plain": [
              "<IPython.core.display.HTML object>"
            ]
          },
          "execution_count": 2,
          "metadata": {},
          "output_type": "execute_result"
        }
      ],
      "source": [
        "from jyquickhelper import add_notebook_menu\n",
        "add_notebook_menu()"
      ]
    },
    {
      "cell_type": "markdown",
      "id": "316903b9",
      "metadata": {},
      "source": [
        "## Coordonn\u00e9es g\u00e9ographiques, et geocoding"
      ]
    },
    {
      "cell_type": "code",
      "execution_count": 2,
      "id": "a03b8ad9",
      "metadata": {},
      "outputs": [],
      "source": [
        "import geopandas\n",
        "import pandas"
      ]
    },
    {
      "cell_type": "code",
      "execution_count": 3,
      "id": "4a65fab2",
      "metadata": {},
      "outputs": [
        {
          "data": {
            "text/html": [
              "<div>\n",
              "<style scoped>\n",
              "    .dataframe tbody tr th:only-of-type {\n",
              "        vertical-align: middle;\n",
              "    }\n",
              "\n",
              "    .dataframe tbody tr th {\n",
              "        vertical-align: top;\n",
              "    }\n",
              "\n",
              "    .dataframe thead th {\n",
              "        text-align: right;\n",
              "    }\n",
              "</style>\n",
              "<table border=\"1\" class=\"dataframe\">\n",
              "  <thead>\n",
              "    <tr style=\"text-align: right;\">\n",
              "      <th></th>\n",
              "      <th>name</th>\n",
              "      <th>address</th>\n",
              "    </tr>\n",
              "  </thead>\n",
              "  <tbody>\n",
              "    <tr>\n",
              "      <th>0</th>\n",
              "      <td>A</td>\n",
              "      <td>50 rue du moulin 08000 Charleville-M\u00e9zi\u00e8res</td>\n",
              "    </tr>\n",
              "    <tr>\n",
              "      <th>1</th>\n",
              "      <td>B</td>\n",
              "      <td>50 rue dumoulin 08000 Charleville-M\u00e9zi\u00e8res</td>\n",
              "    </tr>\n",
              "    <tr>\n",
              "      <th>2</th>\n",
              "      <td>C</td>\n",
              "      <td>50 rue du moulin 08000 Charleville</td>\n",
              "    </tr>\n",
              "    <tr>\n",
              "      <th>3</th>\n",
              "      <td>D</td>\n",
              "      <td>29 rue Ordener 75018 Paris</td>\n",
              "    </tr>\n",
              "    <tr>\n",
              "      <th>4</th>\n",
              "      <td>E</td>\n",
              "      <td>Gare Lille</td>\n",
              "    </tr>\n",
              "  </tbody>\n",
              "</table>\n",
              "</div>"
            ],
            "text/plain": [
              "  name                                      address\n",
              "0    A  50 rue du moulin 08000 Charleville-M\u00e9zi\u00e8res\n",
              "1    B   50 rue dumoulin 08000 Charleville-M\u00e9zi\u00e8res\n",
              "2    C           50 rue du moulin 08000 Charleville\n",
              "3    D                   29 rue Ordener 75018 Paris\n",
              "4    E                                   Gare Lille"
            ]
          },
          "execution_count": 4,
          "metadata": {},
          "output_type": "execute_result"
        }
      ],
      "source": [
        "df = pandas.DataFrame(dict(name=[\"A\", \"B\", \"C\", \"D\", \"E\"],\n",
        "                           address=[\"50 rue du moulin 08000 Charleville-M\u00e9zi\u00e8res\",\n",
        "                                    \"50 rue dumoulin 08000 Charleville-M\u00e9zi\u00e8res\",\n",
        "                                    \"50 rue du moulin 08000 Charleville\",\n",
        "                                    \"29 rue Ordener 75018 Paris\",\n",
        "                                    \"Gare Lille\"]))\n",
        "df"
      ]
    },
    {
      "cell_type": "code",
      "execution_count": 4,
      "id": "8445f7c3",
      "metadata": {},
      "outputs": [],
      "source": [
        "from geopy.geocoders import Nominatim"
      ]
    },
    {
      "cell_type": "code",
      "execution_count": 5,
      "id": "896b42f2",
      "metadata": {},
      "outputs": [
        {
          "data": {
            "text/plain": [
              "Location(50, Rue du Moulin, Charleville-M\u00e9zi\u00e8res, Ardennes, Grand Est, France m\u00e9tropolitaine, 08000, France, (49.775247, 4.721863, 0.0))"
            ]
          },
          "execution_count": 6,
          "metadata": {},
          "output_type": "execute_result"
        }
      ],
      "source": [
        "geolocator = Nominatim(timeout=10, user_agent = \"myGeolocator\")\n",
        "res = geolocator.geocode(\"50 rue du moulin 08000 Charleville-M\u00e9zi\u00e8res\")\n",
        "res"
      ]
    },
    {
      "cell_type": "code",
      "execution_count": 6,
      "id": "eccf0885",
      "metadata": {},
      "outputs": [
        {
          "data": {
            "text/plain": [
              "(49.775247, 4.721863, Point(49.775247, 4.721863, 0.0))"
            ]
          },
          "execution_count": 7,
          "metadata": {},
          "output_type": "execute_result"
        }
      ],
      "source": [
        "res.latitude, res.longitude, res.point"
      ]
    },
    {
      "cell_type": "code",
      "execution_count": 7,
      "id": "6411883c",
      "metadata": {},
      "outputs": [],
      "source": [
        "coordinates = df['address'].apply(geolocator.geocode)"
      ]
    },
    {
      "cell_type": "code",
      "execution_count": 8,
      "id": "324e9ae3",
      "metadata": {},
      "outputs": [
        {
          "data": {
            "text/html": [
              "<div>\n",
              "<style scoped>\n",
              "    .dataframe tbody tr th:only-of-type {\n",
              "        vertical-align: middle;\n",
              "    }\n",
              "\n",
              "    .dataframe tbody tr th {\n",
              "        vertical-align: top;\n",
              "    }\n",
              "\n",
              "    .dataframe thead th {\n",
              "        text-align: right;\n",
              "    }\n",
              "</style>\n",
              "<table border=\"1\" class=\"dataframe\">\n",
              "  <thead>\n",
              "    <tr style=\"text-align: right;\">\n",
              "      <th></th>\n",
              "      <th>name</th>\n",
              "      <th>address</th>\n",
              "      <th>position</th>\n",
              "    </tr>\n",
              "  </thead>\n",
              "  <tbody>\n",
              "    <tr>\n",
              "      <th>0</th>\n",
              "      <td>A</td>\n",
              "      <td>50 rue du moulin 08000 Charleville-M\u00e9zi\u00e8res</td>\n",
              "      <td>POINT (4.721863 49.775247)</td>\n",
              "    </tr>\n",
              "    <tr>\n",
              "      <th>1</th>\n",
              "      <td>B</td>\n",
              "      <td>50 rue dumoulin 08000 Charleville-M\u00e9zi\u00e8res</td>\n",
              "      <td>NaN</td>\n",
              "    </tr>\n",
              "    <tr>\n",
              "      <th>2</th>\n",
              "      <td>C</td>\n",
              "      <td>50 rue du moulin 08000 Charleville</td>\n",
              "      <td>POINT (4.721863 49.775247)</td>\n",
              "    </tr>\n",
              "    <tr>\n",
              "      <th>3</th>\n",
              "      <td>D</td>\n",
              "      <td>29 rue Ordener 75018 Paris</td>\n",
              "      <td>POINT (2.3539607 48.8906617)</td>\n",
              "    </tr>\n",
              "    <tr>\n",
              "      <th>4</th>\n",
              "      <td>E</td>\n",
              "      <td>Gare Lille</td>\n",
              "      <td>POINT (3.162718387293441 50.69456630000001)</td>\n",
              "    </tr>\n",
              "  </tbody>\n",
              "</table>\n",
              "</div>"
            ],
            "text/plain": [
              "  name                                      address  \\\n",
              "0    A  50 rue du moulin 08000 Charleville-M\u00e9zi\u00e8res   \n",
              "1    B   50 rue dumoulin 08000 Charleville-M\u00e9zi\u00e8res   \n",
              "2    C           50 rue du moulin 08000 Charleville   \n",
              "3    D                   29 rue Ordener 75018 Paris   \n",
              "4    E                                   Gare Lille   \n",
              "\n",
              "                                      position  \n",
              "0                   POINT (4.721863 49.775247)  \n",
              "1                                          NaN  \n",
              "2                   POINT (4.721863 49.775247)  \n",
              "3                 POINT (2.3539607 48.8906617)  \n",
              "4  POINT (3.162718387293441 50.69456630000001)  "
            ]
          },
          "execution_count": 9,
          "metadata": {},
          "output_type": "execute_result"
        }
      ],
      "source": [
        "import numpy\n",
        "from shapely.geometry import Point\n",
        "\n",
        "df['position'] = [numpy.nan if c is None else \n",
        "                  Point(c.point.longitude, c.point.latitude) for c in coordinates]\n",
        "df"
      ]
    },
    {
      "cell_type": "code",
      "execution_count": 9,
      "id": "9c749e05",
      "metadata": {},
      "outputs": [],
      "source": [
        "geodf = geopandas.GeoDataFrame(df)"
      ]
    },
    {
      "cell_type": "code",
      "execution_count": 10,
      "id": "859dccc5",
      "metadata": {},
      "outputs": [
        {
          "data": {
            "text/html": [
              "<div>\n",
              "<style scoped>\n",
              "    .dataframe tbody tr th:only-of-type {\n",
              "        vertical-align: middle;\n",
              "    }\n",
              "\n",
              "    .dataframe tbody tr th {\n",
              "        vertical-align: top;\n",
              "    }\n",
              "\n",
              "    .dataframe thead th {\n",
              "        text-align: right;\n",
              "    }\n",
              "</style>\n",
              "<table border=\"1\" class=\"dataframe\">\n",
              "  <thead>\n",
              "    <tr style=\"text-align: right;\">\n",
              "      <th></th>\n",
              "      <th>name</th>\n",
              "      <th>address</th>\n",
              "      <th>position</th>\n",
              "    </tr>\n",
              "  </thead>\n",
              "  <tbody>\n",
              "    <tr>\n",
              "      <th>0</th>\n",
              "      <td>A</td>\n",
              "      <td>50 rue du moulin 08000 Charleville-M\u00e9zi\u00e8res</td>\n",
              "      <td>POINT (4.721863 49.775247)</td>\n",
              "    </tr>\n",
              "    <tr>\n",
              "      <th>1</th>\n",
              "      <td>B</td>\n",
              "      <td>50 rue dumoulin 08000 Charleville-M\u00e9zi\u00e8res</td>\n",
              "      <td>NaN</td>\n",
              "    </tr>\n",
              "    <tr>\n",
              "      <th>2</th>\n",
              "      <td>C</td>\n",
              "      <td>50 rue du moulin 08000 Charleville</td>\n",
              "      <td>POINT (4.721863 49.775247)</td>\n",
              "    </tr>\n",
              "    <tr>\n",
              "      <th>3</th>\n",
              "      <td>D</td>\n",
              "      <td>29 rue Ordener 75018 Paris</td>\n",
              "      <td>POINT (2.3539607 48.8906617)</td>\n",
              "    </tr>\n",
              "    <tr>\n",
              "      <th>4</th>\n",
              "      <td>E</td>\n",
              "      <td>Gare Lille</td>\n",
              "      <td>POINT (3.162718387293441 50.69456630000001)</td>\n",
              "    </tr>\n",
              "  </tbody>\n",
              "</table>\n",
              "</div>"
            ],
            "text/plain": [
              "  name                                      address  \\\n",
              "0    A  50 rue du moulin 08000 Charleville-M\u00e9zi\u00e8res   \n",
              "1    B   50 rue dumoulin 08000 Charleville-M\u00e9zi\u00e8res   \n",
              "2    C           50 rue du moulin 08000 Charleville   \n",
              "3    D                   29 rue Ordener 75018 Paris   \n",
              "4    E                                   Gare Lille   \n",
              "\n",
              "                                      position  \n",
              "0                   POINT (4.721863 49.775247)  \n",
              "1                                          NaN  \n",
              "2                   POINT (4.721863 49.775247)  \n",
              "3                 POINT (2.3539607 48.8906617)  \n",
              "4  POINT (3.162718387293441 50.69456630000001)  "
            ]
          },
          "execution_count": 11,
          "metadata": {},
          "output_type": "execute_result"
        }
      ],
      "source": [
        "geodf"
      ]
    },
    {
      "cell_type": "code",
      "execution_count": 11,
      "id": "b94db356",
      "metadata": {},
      "outputs": [
        {
          "data": {
            "text/html": [
              "<div>\n",
              "<style scoped>\n",
              "    .dataframe tbody tr th:only-of-type {\n",
              "        vertical-align: middle;\n",
              "    }\n",
              "\n",
              "    .dataframe tbody tr th {\n",
              "        vertical-align: top;\n",
              "    }\n",
              "\n",
              "    .dataframe thead th {\n",
              "        text-align: right;\n",
              "    }\n",
              "</style>\n",
              "<table border=\"1\" class=\"dataframe\">\n",
              "  <thead>\n",
              "    <tr style=\"text-align: right;\">\n",
              "      <th></th>\n",
              "      <th>name</th>\n",
              "      <th>address</th>\n",
              "      <th>position</th>\n",
              "    </tr>\n",
              "  </thead>\n",
              "  <tbody>\n",
              "    <tr>\n",
              "      <th>0</th>\n",
              "      <td>A</td>\n",
              "      <td>50 rue du moulin 08000 Charleville-M\u00e9zi\u00e8res</td>\n",
              "      <td>POINT (4.721863 49.775247)</td>\n",
              "    </tr>\n",
              "    <tr>\n",
              "      <th>2</th>\n",
              "      <td>C</td>\n",
              "      <td>50 rue du moulin 08000 Charleville</td>\n",
              "      <td>POINT (4.721863 49.775247)</td>\n",
              "    </tr>\n",
              "    <tr>\n",
              "      <th>3</th>\n",
              "      <td>D</td>\n",
              "      <td>29 rue Ordener 75018 Paris</td>\n",
              "      <td>POINT (2.3539607 48.8906617)</td>\n",
              "    </tr>\n",
              "    <tr>\n",
              "      <th>4</th>\n",
              "      <td>E</td>\n",
              "      <td>Gare Lille</td>\n",
              "      <td>POINT (3.162718387293441 50.69456630000001)</td>\n",
              "    </tr>\n",
              "  </tbody>\n",
              "</table>\n",
              "</div>"
            ],
            "text/plain": [
              "  name                                      address  \\\n",
              "0    A  50 rue du moulin 08000 Charleville-M\u00e9zi\u00e8res   \n",
              "2    C           50 rue du moulin 08000 Charleville   \n",
              "3    D                   29 rue Ordener 75018 Paris   \n",
              "4    E                                   Gare Lille   \n",
              "\n",
              "                                      position  \n",
              "0                   POINT (4.721863 49.775247)  \n",
              "2                   POINT (4.721863 49.775247)  \n",
              "3                 POINT (2.3539607 48.8906617)  \n",
              "4  POINT (3.162718387293441 50.69456630000001)  "
            ]
          },
          "execution_count": 12,
          "metadata": {},
          "output_type": "execute_result"
        }
      ],
      "source": [
        "geodf.dropna()"
      ]
    },
    {
      "cell_type": "code",
      "execution_count": 12,
      "id": "3b0db32b",
      "metadata": {},
      "outputs": [
        {
          "data": {
            "text/html": [
              "<div>\n",
              "<style scoped>\n",
              "    .dataframe tbody tr th:only-of-type {\n",
              "        vertical-align: middle;\n",
              "    }\n",
              "\n",
              "    .dataframe tbody tr th {\n",
              "        vertical-align: top;\n",
              "    }\n",
              "\n",
              "    .dataframe thead th {\n",
              "        text-align: right;\n",
              "    }\n",
              "</style>\n",
              "<table border=\"1\" class=\"dataframe\">\n",
              "  <thead>\n",
              "    <tr style=\"text-align: right;\">\n",
              "      <th></th>\n",
              "      <th>name</th>\n",
              "      <th>address</th>\n",
              "      <th>position</th>\n",
              "    </tr>\n",
              "  </thead>\n",
              "  <tbody>\n",
              "    <tr>\n",
              "      <th>0</th>\n",
              "      <td>A</td>\n",
              "      <td>50 rue du moulin 08000 Charleville-M\u00e9zi\u00e8res</td>\n",
              "      <td>POINT (4.72186 49.77525)</td>\n",
              "    </tr>\n",
              "    <tr>\n",
              "      <th>1</th>\n",
              "      <td>B</td>\n",
              "      <td>50 rue dumoulin 08000 Charleville-M\u00e9zi\u00e8res</td>\n",
              "      <td>None</td>\n",
              "    </tr>\n",
              "    <tr>\n",
              "      <th>2</th>\n",
              "      <td>C</td>\n",
              "      <td>50 rue du moulin 08000 Charleville</td>\n",
              "      <td>POINT (4.72186 49.77525)</td>\n",
              "    </tr>\n",
              "    <tr>\n",
              "      <th>3</th>\n",
              "      <td>D</td>\n",
              "      <td>29 rue Ordener 75018 Paris</td>\n",
              "      <td>POINT (2.35396 48.89066)</td>\n",
              "    </tr>\n",
              "    <tr>\n",
              "      <th>4</th>\n",
              "      <td>E</td>\n",
              "      <td>Gare Lille</td>\n",
              "      <td>POINT (3.16272 50.69457)</td>\n",
              "    </tr>\n",
              "  </tbody>\n",
              "</table>\n",
              "</div>"
            ],
            "text/plain": [
              "  name                                      address                  position\n",
              "0    A  50 rue du moulin 08000 Charleville-M\u00e9zi\u00e8res  POINT (4.72186 49.77525)\n",
              "1    B   50 rue dumoulin 08000 Charleville-M\u00e9zi\u00e8res                      None\n",
              "2    C           50 rue du moulin 08000 Charleville  POINT (4.72186 49.77525)\n",
              "3    D                   29 rue Ordener 75018 Paris  POINT (2.35396 48.89066)\n",
              "4    E                                   Gare Lille  POINT (3.16272 50.69457)"
            ]
          },
          "execution_count": 13,
          "metadata": {},
          "output_type": "execute_result"
        }
      ],
      "source": [
        "gdf = geodf.set_geometry('position')\n",
        "gdf"
      ]
    },
    {
      "cell_type": "markdown",
      "id": "697627b9",
      "metadata": {},
      "source": [
        "## Carte"
      ]
    },
    {
      "cell_type": "code",
      "execution_count": 13,
      "id": "33c071cc",
      "metadata": {},
      "outputs": [
        {
          "data": {
            "image/png": "[encoded data removed]",
            "text/plain": [
              "<Figure size 432x288 with 1 Axes>"
            ]
          },
          "metadata": {
            "needs_background": "light"
          },
          "output_type": "display_data"
        }
      ],
      "source": [
        "gdf.plot();"
      ]
    },
    {
      "cell_type": "code",
      "execution_count": 14,
      "id": "737b9fbe",
      "metadata": {},
      "outputs": [],
      "source": [
        "import cartopy.crs as ccrs\n",
        "import cartopy.feature as cfeature\n",
        "import matplotlib.pyplot as plt"
      ]
    },
    {
      "cell_type": "code",
      "execution_count": 15,
      "id": "39987d8e",
      "metadata": {},
      "outputs": [
        {
          "data": {
            "image/png": "[encoded data removed]",
            "text/plain": [
              "<Figure size 504x504 with 1 Axes>"
            ]
          },
          "metadata": {
            "needs_background": "light"
          },
          "output_type": "display_data"
        }
      ],
      "source": [
        "fig = plt.figure(figsize=(7,7))\n",
        "ax = fig.add_subplot(1, 1, 1, projection=ccrs.PlateCarree())\n",
        "ax.set_extent([-5, 10, 42, 52])\n",
        "\n",
        "ax.add_feature(cfeature.OCEAN)\n",
        "ax.add_feature(cfeature.COASTLINE)\n",
        "ax.add_feature(cfeature.RIVERS)\n",
        "ax.add_feature(cfeature.LAKES)\n",
        "ax.add_feature(cfeature.LAND)\n",
        "ax.add_feature(cfeature.BORDERS, linestyle=':')\n",
        "ax.plot([2.35, 2.20], [48.85, 48.71], '.')\n",
        "ax.text(2.35, 48.85, \"Paris\")\n",
        "ax.text(2.20, 48.71, \"Saclay\", ha=\"right\")\n",
        "ax.set_title('France');"
      ]
    },
    {
      "cell_type": "code",
      "execution_count": 16,
      "id": "0bcc3466",
      "metadata": {},
      "outputs": [],
      "source": []
    },
    {
      "cell_type": "code",
      "execution_count": 17,
      "id": "0175ec83",
      "metadata": {},
      "outputs": [
        {
          "data": {
            "image/png": "[encoded data removed]",
            "text/plain": [
              "<Figure size 504x504 with 1 Axes>"
            ]
          },
          "metadata": {
            "needs_background": "light"
          },
          "output_type": "display_data"
        }
      ],
      "source": [
        "fig = plt.figure(figsize=(7,7))\n",
        "ax = fig.add_subplot(1, 1, 1, projection=ccrs.PlateCarree())\n",
        "ax = gdf.plot(ax=ax)\n",
        "ax.add_feature(cfeature.OCEAN)\n",
        "ax.add_feature(cfeature.COASTLINE)\n",
        "ax.add_feature(cfeature.RIVERS)\n",
        "ax.add_feature(cfeature.LAKES)\n",
        "ax.add_feature(cfeature.LAND)\n",
        "ax.add_feature(cfeature.BORDERS, linestyle=':')\n",
        "for i in range(gdf.shape[0]):\n",
        "    if gdf.geometry[i] is None:\n",
        "        continue\n",
        "    ax.text(gdf.geometry[i].x, gdf.geometry[i].y, gdf.name[i])\n",
        "ax;"
      ]
    },
    {
      "cell_type": "markdown",
      "id": "e01687a7",
      "metadata": {},
      "source": [
        "## R\u00e9gions administratives"
      ]
    },
    {
      "cell_type": "code",
      "execution_count": 18,
      "id": "98ce460b",
      "metadata": {},
      "outputs": [],
      "source": []
    }
  ],
  "metadata": {
    "kernelspec": {
      "display_name": "Python 3",
      "language": "python",
      "name": "python3"
    },
    "language_info": {
      "codemirror_mode": {
        "name": "ipython",
        "version": 3
      },
      "file_extension": ".py",
      "mimetype": "text/x-python",
      "name": "python",
      "nbconvert_exporter": "python",
      "pygments_lexer": "ipython3",
      "version": "3.9.5"
    }
  },
  "nbformat": 4,
  "nbformat_minor": 5
}