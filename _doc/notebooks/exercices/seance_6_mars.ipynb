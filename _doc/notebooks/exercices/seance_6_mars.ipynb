{
  "cells": [
    {
      "cell_type": "markdown",
      "id": "332aef49",
      "metadata": {},
      "source": [
        "# Questions s\u00e9ance 6 mars 2023"
      ]
    },
    {
      "cell_type": "markdown",
      "id": "f03afc44",
      "metadata": {},
      "source": [
        "## r\u00e9gression\n",
        "\n",
        "Axe des X: valeur attendue, axe des Y: valeur pr\u00e9dites.\n",
        "Premier graphe : il y a 3 mois, second graphe : aujourd'hui\n",
        "\n",
        "On mesure les performances d'un mod\u00e8le apr\u00e8s quelques mois sur de nouvelles donn\u00e9es. Les performances se sont d\u00e9grad\u00e9es ? Pourquoi ?"
      ]
    },
    {
      "cell_type": "code",
      "execution_count": 1,
      "id": "5efb6e26",
      "metadata": {},
      "outputs": [
        {
          "data": {
            "image/png": "[encoded data removed]",
            "text/plain": [
              "<IPython.core.display.Image object>"
            ]
          },
          "execution_count": 2,
          "metadata": {},
          "output_type": "execute_result"
        }
      ],
      "source": [
        "from IPython.display import Image\n",
        "Image(\"seance_6_mars.png\")"
      ]
    },
    {
      "cell_type": "markdown",
      "id": "1d51c26e",
      "metadata": {},
      "source": [
        "*Les donn\u00e9es \u00e9voluent avec le temps. On peut supposer qu'elles croissent avec le temps. Le mod\u00e8le de pr\u00e9diction est un mod\u00e8le born\u00e9 (arbre de d\u00e9cision par exemple) et sa pr\u00e9diction ne peut exc\u00e9der un certain seuil. Il faut soit enlever la tendance dans les donn\u00e9es soit mettre le mod\u00e8le \u00e0 jour tr\u00e8s r\u00e9guli\u00e8rement.*"
      ]
    },
    {
      "cell_type": "markdown",
      "id": "68087a38",
      "metadata": {},
      "source": [
        "## classification\n",
        "\n",
        "Un probl\u00e8me de classification, la classe A repr\u00e9sente 90% des observations, la classe B, 10%. Au del\u00e0 de quel seuil, pouvez-vous dire qu'un mod\u00e8le de classification aura de bonnes performances ?"
      ]
    },
    {
      "cell_type": "markdown",
      "id": "9d409beb",
      "metadata": {},
      "source": [
        "*Le plus simple des classifieurs retourne classe tous les \u00e9l\u00e9ments dans la classe majoritaire. SA performance ne peut \u00eatre inf\u00e9rieur \u00e0 90% et pourtant il ne pr\u00e9dit pas. Un classifieur doit faire plus de 90% de bonnes classifications pour esp\u00e9rer avoir appris quelque chose.*"
      ]
    },
    {
      "cell_type": "markdown",
      "id": "66337325",
      "metadata": {},
      "source": [
        "## le bug de l'an 2000\n",
        "\n",
        "Un datascientist remarque d'un mod\u00e8le de pr\u00e9diction est meilleur si on ajoute une colonne contenant l'ann\u00e9e. Cela ne lui pose aucun probl\u00e8me. Il garde la colonne. Le 31 d\u00e9cembre, il r\u00e9veillonne. En janvier, on mesure \u00e0 nouveau les performances... Que va-t-on observer ?"
      ]
    },
    {
      "cell_type": "markdown",
      "id": "22df8748",
      "metadata": {},
      "source": [
        "*L'ann\u00e9e ne devrait jamais \u00eatre utilis\u00e9e comme variable \u00e0 l'inverse du mois ou du jour de la semaine. L'ann\u00e9e est une donn\u00e9e qui n'existe que pendant un an et ne revient jamais. Tout apprentissage s'appuie sur le fait que des \u00e9v\u00e9nements reviennent plusieurs fois au cours du temps. Au lieu de cela, il vaut mieux chercher quelles variables \u00e9voluent avec le temps.*"
      ]
    },
    {
      "cell_type": "markdown",
      "id": "3d41d9fa",
      "metadata": {},
      "source": [
        "## algorithme\n",
        "\n",
        "Une base d'apprentissage $(X_i, y_i)$ avec $X_i= (x_{i1}, ..., x_{iC})$, $i$ allant de 1 \u00e0 $N$, et un mod\u00e8le $f$. On fixe $i$, on choisit une variable $c$, il faut calculer :\n",
        "\n",
        "$$\\hat{y_{jc}} = \\frac{1}{N}\\sum_{j} f(x_{i1}, ..., x_{jc}, ..., x_{iC})$$"
      ]
    },
    {
      "cell_type": "code",
      "execution_count": 2,
      "id": "207b35b1",
      "metadata": {},
      "outputs": [
        {
          "data": {
            "text/plain": [
              "30.0"
            ]
          },
          "execution_count": 3,
          "metadata": {},
          "output_type": "execute_result"
        }
      ],
      "source": [
        "import numpy\n",
        "\n",
        "def f(x):\n",
        "    return x.mean()\n",
        "\n",
        "X = numpy.arange(100).reshape((-1, 2))\n",
        "\n",
        "\n",
        "def yjc(X, i, c):\n",
        "    total = 0\n",
        "    for j in range(X.shape[0]):\n",
        "        x = X[i].copy()\n",
        "        x[c] = X[j, c]\n",
        "        v = f(x)\n",
        "        total += v\n",
        "\n",
        "    return total / X.shape[0]\n",
        "\n",
        "\n",
        "yjc(X, 5, 1)"
      ]
    },
    {
      "cell_type": "code",
      "execution_count": 3,
      "id": "ee3c44b9",
      "metadata": {},
      "outputs": [],
      "source": []
    }
  ],
  "metadata": {
    "kernelspec": {
      "display_name": "Python 3 (ipykernel)",
      "language": "python",
      "name": "python3"
    },
    "language_info": {
      "codemirror_mode": {
        "name": "ipython",
        "version": 3
      },
      "file_extension": ".py",
      "mimetype": "text/x-python",
      "name": "python",
      "nbconvert_exporter": "python",
      "pygments_lexer": "ipython3",
      "version": "3.10.5"
    }
  },
  "nbformat": 4,
  "nbformat_minor": 5
}